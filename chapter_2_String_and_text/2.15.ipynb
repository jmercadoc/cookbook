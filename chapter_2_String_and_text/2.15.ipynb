{
 "cells": [
  {
   "cell_type": "code",
   "execution_count": 2,
   "id": "21f2c480-8b7c-4a88-8a7f-79e963cac18e",
   "metadata": {},
   "outputs": [],
   "source": [
    "name = 'Guido'\n",
    "n = 37\n",
    "\n",
    "s = '{name} has  {n} messages'"
   ]
  },
  {
   "cell_type": "code",
   "execution_count": 3,
   "id": "554dc701-393f-4f5d-b423-2ea63d39191a",
   "metadata": {},
   "outputs": [
    {
     "data": {
      "text/plain": [
       "'Guido has  37 messages'"
      ]
     },
     "execution_count": 3,
     "metadata": {},
     "output_type": "execute_result"
    }
   ],
   "source": [
    "s.format(name=name, n=n)"
   ]
  },
  {
   "cell_type": "code",
   "execution_count": 4,
   "id": "d94b1f71-e80d-4171-84a6-c2a05b562ddc",
   "metadata": {},
   "outputs": [
    {
     "data": {
      "text/plain": [
       "'Guido has  37 messages'"
      ]
     },
     "execution_count": 4,
     "metadata": {},
     "output_type": "execute_result"
    }
   ],
   "source": [
    "s.format_map(vars())"
   ]
  },
  {
   "cell_type": "code",
   "execution_count": null,
   "id": "8545c655-0a75-4d1a-8826-62d90bd49cb3",
   "metadata": {},
   "outputs": [],
   "source": []
  }
 ],
 "metadata": {
  "kernelspec": {
   "display_name": "Python 3",
   "language": "python",
   "name": "python3"
  },
  "language_info": {
   "codemirror_mode": {
    "name": "ipython",
    "version": 3
   },
   "file_extension": ".py",
   "mimetype": "text/x-python",
   "name": "python",
   "nbconvert_exporter": "python",
   "pygments_lexer": "ipython3",
   "version": "3.8.5"
  }
 },
 "nbformat": 4,
 "nbformat_minor": 5
}
