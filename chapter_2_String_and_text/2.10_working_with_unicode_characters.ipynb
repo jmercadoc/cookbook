{
 "cells": [
  {
   "cell_type": "code",
   "execution_count": 1,
   "id": "62cee2bb-7263-4083-90dc-0f4f84ab196c",
   "metadata": {},
   "outputs": [],
   "source": [
    "import re"
   ]
  },
  {
   "cell_type": "code",
   "execution_count": 2,
   "id": "03bade3a-2dbb-4594-9679-22feaad1e766",
   "metadata": {},
   "outputs": [],
   "source": [
    "num = re.compile('\\d+')"
   ]
  },
  {
   "cell_type": "code",
   "execution_count": 5,
   "id": "50860cff-9de2-499e-bc7a-f6901634bae6",
   "metadata": {},
   "outputs": [
    {
     "data": {
      "text/plain": [
       "<re.Match object; span=(0, 3), match='123'>"
      ]
     },
     "execution_count": 5,
     "metadata": {},
     "output_type": "execute_result"
    }
   ],
   "source": [
    "num.match('123')"
   ]
  },
  {
   "cell_type": "code",
   "execution_count": 6,
   "id": "2486f13d-0fc7-4cba-b223-0e563991f3b9",
   "metadata": {},
   "outputs": [
    {
     "data": {
      "text/plain": [
       "<re.Match object; span=(0, 3), match='١٢٣'>"
      ]
     },
     "execution_count": 6,
     "metadata": {},
     "output_type": "execute_result"
    }
   ],
   "source": [
    "num.match('\\u0661\\u0662\\u0663')"
   ]
  },
  {
   "cell_type": "code",
   "execution_count": null,
   "id": "c4c88304-0c4a-4dd6-8e9b-4b6eb49906fe",
   "metadata": {},
   "outputs": [],
   "source": []
  }
 ],
 "metadata": {
  "kernelspec": {
   "display_name": "Python 3",
   "language": "python",
   "name": "python3"
  },
  "language_info": {
   "codemirror_mode": {
    "name": "ipython",
    "version": 3
   },
   "file_extension": ".py",
   "mimetype": "text/x-python",
   "name": "python",
   "nbconvert_exporter": "python",
   "pygments_lexer": "ipython3",
   "version": "3.8.5"
  }
 },
 "nbformat": 4,
 "nbformat_minor": 5
}
